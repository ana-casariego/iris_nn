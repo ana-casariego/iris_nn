{
  "nbformat": 4,
  "nbformat_minor": 0,
  "metadata": {
    "colab": {
      "provenance": []
    },
    "kernelspec": {
      "name": "python3",
      "display_name": "Python 3"
    },
    "language_info": {
      "name": "python"
    }
  },
  "cells": [
    {
      "cell_type": "markdown",
      "metadata": {
        "id": "RWWHJIpTc-Gn"
      },
      "source": [
        "# **Iris Classification Model**\n",
        "\n",
        "#### By: Ana Casariego"
      ]
    },
    {
      "cell_type": "code",
      "metadata": {
        "id": "WSbFCYuNw67j"
      },
      "source": [
        "import pandas as pd, matplotlib as mpl, matplotlib.pyplot as plt, numpy as np, tensorflow as tf"
      ],
      "execution_count": null,
      "outputs": []
    },
    {
      "cell_type": "markdown",
      "metadata": {
        "id": "JsFYv9n4fdfw"
      },
      "source": [
        "The goal of this assessment is to build a model that classifies which of three species an iris flower belongs to. My model is an artificial neural network and it will be assessed based on accuracy and loss scores."
      ]
    },
    {
      "cell_type": "markdown",
      "metadata": {
        "id": "3ROsQEhAZZVW"
      },
      "source": [
        "## The Iris Dataset"
      ]
    },
    {
      "cell_type": "markdown",
      "metadata": {
        "id": "H4xdg6BCgcLL"
      },
      "source": [
        "To conduct this analysis, I used the iris dataset from the sklearn dataset library. The dataset has 150 observations. It contains three classes of iris plant with 50 instances each and four attributes."
      ]
    },
    {
      "cell_type": "code",
      "metadata": {
        "id": "oohPFm8IxAWX"
      },
      "source": [
        "from sklearn.datasets import load_iris\n",
        "iris = load_iris()\n",
        "\n",
        "# Feature matrix and target vector\n",
        "x = iris.data\n",
        "y = iris.target"
      ],
      "execution_count": null,
      "outputs": []
    },
    {
      "cell_type": "code",
      "metadata": {
        "colab": {
          "base_uri": "https://localhost:8080/"
        },
        "id": "H7eZ_ge5aTIN",
        "outputId": "80fed5d4-eb9e-4144-d237-2bfb747b3e38"
      },
      "source": [
        "print(iris.data.shape)"
      ],
      "execution_count": null,
      "outputs": [
        {
          "output_type": "stream",
          "name": "stdout",
          "text": [
            "(150, 4)\n"
          ]
        }
      ]
    },
    {
      "cell_type": "code",
      "metadata": {
        "colab": {
          "base_uri": "https://localhost:8080/"
        },
        "id": "rs1yxylXa8xa",
        "outputId": "0a1811dc-6d54-4959-e8dc-7ebd2b7fd2ff"
      },
      "source": [
        "print(iris.target.shape)"
      ],
      "execution_count": null,
      "outputs": [
        {
          "output_type": "stream",
          "name": "stdout",
          "text": [
            "(150,)\n"
          ]
        }
      ]
    },
    {
      "cell_type": "code",
      "metadata": {
        "colab": {
          "base_uri": "https://localhost:8080/"
        },
        "id": "YEv6GR_0ZhHp",
        "outputId": "e96e83b4-836e-4a54-f4ca-6e09f4091b05"
      },
      "source": [
        "df = pd.DataFrame(data = np.c_[iris['data'], iris['target']],\n",
        "                  columns = iris['feature_names'] + ['Species'])\n",
        "\n",
        "df['Species'].value_counts()"
      ],
      "execution_count": null,
      "outputs": [
        {
          "output_type": "execute_result",
          "data": {
            "text/plain": [
              "2.0    50\n",
              "1.0    50\n",
              "0.0    50\n",
              "Name: Species, dtype: int64"
            ]
          },
          "metadata": {},
          "execution_count": 5
        }
      ]
    },
    {
      "cell_type": "markdown",
      "metadata": {
        "id": "yKS2yjVng1PE"
      },
      "source": [
        "## Splitting, Scaling, and Preparing the dataset\n",
        "\n",
        "I randomly split the data into train and test sets with an 80/20 split."
      ]
    },
    {
      "cell_type": "code",
      "metadata": {
        "id": "aLDB2wdqxDQo"
      },
      "source": [
        "from sklearn.model_selection import train_test_split\n",
        "x_train, x_test, y_train, y_test = train_test_split(x, y, train_size = .80, random_state = 0)"
      ],
      "execution_count": null,
      "outputs": []
    },
    {
      "cell_type": "markdown",
      "metadata": {
        "id": "lpUBnA0Ak30A"
      },
      "source": [
        "Next I scaled each feature to accelerate gradient descent convergence so that the neural network can learn more quickly.\n",
        "\n",
        "The values of each feature are centered around 0 and have a unit standard deviation.\n",
        "\n",
        "Note that the quantities used to scale the test features were computed using the training data."
      ]
    },
    {
      "cell_type": "code",
      "metadata": {
        "id": "15M0UH1ZxCcK"
      },
      "source": [
        "from sklearn.preprocessing import StandardScaler\n",
        "std_scalar = StandardScaler()\n",
        "x_train = std_scalar.fit_transform(x_train)\n",
        "x_test = std_scalar.transform(x_test)"
      ],
      "execution_count": null,
      "outputs": []
    },
    {
      "cell_type": "markdown",
      "metadata": {
        "id": "OFEizuvBrXvq"
      },
      "source": [
        "I categorically encoded the target vector to create uniform formatting between neural network predictions and the target."
      ]
    },
    {
      "cell_type": "code",
      "metadata": {
        "id": "iOe0PscuxLqI"
      },
      "source": [
        "from tensorflow.keras.utils import to_categorical\n",
        "\n",
        "y_train = to_categorical(y_train)\n",
        "y_test = to_categorical(y_test)"
      ],
      "execution_count": null,
      "outputs": []
    },
    {
      "cell_type": "markdown",
      "metadata": {
        "id": "cx3Kq61aosTB"
      },
      "source": [
        "## Build Neural Network"
      ]
    },
    {
      "cell_type": "code",
      "metadata": {
        "id": "RhsfI7zpxHHZ"
      },
      "source": [
        "from keras import models\n",
        "from keras import layers"
      ],
      "execution_count": null,
      "outputs": []
    },
    {
      "cell_type": "markdown",
      "metadata": {
        "id": "0R0e7Hax1QW0"
      },
      "source": [
        "My process was simple: make small adjustments to the previous model and build the model up until I notice diminishing returns with regard to validation accuracy and validation loss.\n",
        "\n",
        "My approach began with a simple neural network to generate a baseline for the capabilities of the network. To mitigate overfitting the small dataset, I used a small network of two hidden layers and small batch sizes. I then added a dropout layer to the second hidden layer to regularize the data.\n",
        "\n",
        "After many experimental runs, I found the optimal parameters for the neural network.\n",
        "\n",
        "Because this is a multiclass single-label classification model, the output layer uses `softmax` activation and `categorical_crossentropy` loss function."
      ]
    },
    {
      "cell_type": "code",
      "metadata": {
        "id": "9qeSbzTOxPwJ"
      },
      "source": [
        "def build_model():\n",
        "\n",
        "    model = models.Sequential()\n",
        "    model.add(layers.Dense(8, activation = 'relu', input_shape = (x_train.shape[1],)))\n",
        "    model.add(layers.Dense(5, activation = 'relu'))\n",
        "    model.add(layers.Dropout(0.3))\n",
        "    model.add(layers.Dense(3, activation = 'softmax'))\n",
        "\n",
        "    model.compile(optimizer = 'adam',\n",
        "                loss = 'categorical_crossentropy',\n",
        "                metrics = ['acc'])\n",
        "    return model"
      ],
      "execution_count": null,
      "outputs": []
    },
    {
      "cell_type": "markdown",
      "metadata": {
        "id": "mCHlMn41KlVE"
      },
      "source": [
        "## K-Fold Validation\n",
        "\n",
        "I used k-fold cross- validation to get a better estimate of the performance of my model.\n",
        "\n",
        "Because the datset is so small, the validation scores may significantly change depending on the random split between validation and training observations, giving us unreliable model evaluations.\n",
        "\n",
        "K-fold cross validation avoids this bias by splitting the available data into k partitions, then instantiating k identical models and training each one on k-1 partitions while evaluating on the remaining parts. The final validation score is the average of the k validation scores obtained.  \n",
        "\n",
        "I also used checkpoint files to save the weights of the best model in each iteration. This further fine-tuned my model and keeps a records of my best models."
      ]
    },
    {
      "cell_type": "code",
      "metadata": {
        "id": "eYCM9L9sjM-N"
      },
      "source": [
        "def get_model_name(k):\n",
        "    return 'model_'+str(k)+'.h5'"
      ],
      "execution_count": null,
      "outputs": []
    },
    {
      "cell_type": "code",
      "metadata": {
        "colab": {
          "base_uri": "https://localhost:8080/"
        },
        "id": "PPqU9YcDe_r4",
        "outputId": "fce55749-e620-4f0f-d2ed-17bdaba30565"
      },
      "source": [
        "k = 4\n",
        "val_samples = len(x_train) // k\n",
        "n_epochs = 350\n",
        "\n",
        "save_dir = '/saved_models/'\n",
        "fold_var = 1\n",
        "\n",
        "all_loss_hist = []\n",
        "\n",
        "VALIDATION_ACCURACY = []\n",
        "VALIDATION_LOSS = []\n",
        "\n",
        "for i in range(k):\n",
        "      print('processing fold #', i)\n",
        "\n",
        "      # Prepare validation data: data from partition # k\n",
        "      x_val = x_train[i* val_samples: (i + 1) * val_samples]\n",
        "      y_val = y_train[i * val_samples: (i + 1) * val_samples]\n",
        "\n",
        "      # Prepare training data\n",
        "      partial_x_train = np.concatenate(\n",
        "          [x_train[:i * val_samples],\n",
        "           x_train[(i + 1) * val_samples:]],\n",
        "           axis=0)\n",
        "      partial_y_train = np.concatenate(\n",
        "          [y_train[:i * val_samples],\n",
        "           y_train[(i + 1) * val_samples:]],\n",
        "           axis=0)\n",
        "\n",
        "      # Build model and train\n",
        "      model = build_model()\n",
        "\n",
        "      # Create Callbacks\n",
        "      checkpoint = tf.keras.callbacks.ModelCheckpoint(save_dir+get_model_name(fold_var),\n",
        "                                                      monitor = 'val_acc',\n",
        "                                                      save_best_only = True, mode = 'max')\n",
        "      # Save the best model\n",
        "      callbacks_list = [checkpoint]\n",
        "\n",
        "      #FIT the model\n",
        "      history = model.fit(partial_x_train, partial_y_train,\n",
        "                          validation_data = (x_val, y_val),\n",
        "                          epochs = n_epochs, callbacks = callbacks_list,\n",
        "                          batch_size = 8, verbose = 0)\n",
        "\n",
        "\n",
        "      loss_hist = history.history['val_loss']\n",
        "      all_loss_hist.append(loss_hist)\n",
        "\n",
        "      # Load best model\n",
        "      model.load_weights(\"/saved_models/model_\"+str(fold_var)+\".h5\")\n",
        "\n",
        "      # Evaluate the model on validation data\n",
        "      val_loss, val_acc = model.evaluate(x_val, y_val, verbose = 0)\n",
        "      VALIDATION_ACCURACY.append(val_acc)\n",
        "      VALIDATION_LOSS.append(val_loss)\n",
        "\n",
        "      tf.keras.backend.clear_session()\n",
        "\n",
        "      fold_var += 1"
      ],
      "execution_count": null,
      "outputs": [
        {
          "output_type": "stream",
          "name": "stdout",
          "text": [
            "processing fold # 0\n",
            "processing fold # 1\n",
            "processing fold # 2\n",
            "processing fold # 3\n"
          ]
        }
      ]
    },
    {
      "cell_type": "code",
      "metadata": {
        "id": "jGAKGWeoVS__"
      },
      "source": [
        "# Average of per-epoch val_loss scores for all folds\n",
        "avg_loss_hist = [np.mean([x[i] for x in all_loss_hist]) for i in range(n_epochs)]"
      ],
      "execution_count": null,
      "outputs": []
    },
    {
      "cell_type": "markdown",
      "metadata": {
        "id": "3VcxsMunfTox"
      },
      "source": [
        "To determine the optimal number of epochs, I plotted validation loss versus epochs. Using this plot I found that the validation loss stops improving at about 300 epochs."
      ]
    },
    {
      "cell_type": "code",
      "metadata": {
        "colab": {
          "base_uri": "https://localhost:8080/",
          "height": 283
        },
        "id": "YE7x_y6LaWi7",
        "outputId": "413010f9-e43d-4624-c77d-35dc9993b17f"
      },
      "source": [
        "# PLOT\n",
        "plt.plot(range(1, len(avg_loss_hist) + 1), avg_loss_hist)\n",
        "plt.xlabel('Epochs')\n",
        "plt.ylabel('Validation Loss')\n",
        "plt.xlim([125, 350])\n",
        "plt.ylim([0, .4])\n",
        "plt.show()"
      ],
      "execution_count": null,
      "outputs": [
        {
          "output_type": "display_data",
          "data": {
            "image/png": "[encoded data removed]",
            "text/plain": [
              "<Figure size 432x288 with 1 Axes>"
            ]
          },
          "metadata": {
            "needs_background": "light"
          }
        }
      ]
    },
    {
      "cell_type": "code",
      "metadata": {
        "colab": {
          "base_uri": "https://localhost:8080/"
        },
        "id": "gHtJdKGkI3aA",
        "outputId": "189500ec-809b-41a0-a48a-b0942c626f6a"
      },
      "source": [
        "VALIDATION_ACCURACY"
      ],
      "execution_count": null,
      "outputs": [
        {
          "output_type": "execute_result",
          "data": {
            "text/plain": [
              "[0.8999999761581421, 1.0, 1.0, 0.9333333373069763]"
            ]
          },
          "metadata": {},
          "execution_count": 17
        }
      ]
    },
    {
      "cell_type": "code",
      "metadata": {
        "colab": {
          "base_uri": "https://localhost:8080/"
        },
        "id": "4xyIA5PCI5ut",
        "outputId": "8b386bb4-7742-4dbf-9d86-6ad86a935a11"
      },
      "source": [
        "VALIDATION_LOSS"
      ],
      "execution_count": null,
      "outputs": [
        {
          "output_type": "execute_result",
          "data": {
            "text/plain": [
              "[0.41116318106651306,\n",
              " 0.3003048300743103,\n",
              " 0.09530989825725555,\n",
              " 0.22158360481262207]"
            ]
          },
          "metadata": {},
          "execution_count": 18
        }
      ]
    },
    {
      "cell_type": "code",
      "metadata": {
        "colab": {
          "base_uri": "https://localhost:8080/"
        },
        "id": "qrt6CDZQI8LG",
        "outputId": "25f1da8f-fe17-444e-dc17-d1051345f045"
      },
      "source": [
        "np.mean(VALIDATION_ACCURACY)"
      ],
      "execution_count": null,
      "outputs": [
        {
          "output_type": "execute_result",
          "data": {
            "text/plain": [
              "0.9583333283662796"
            ]
          },
          "metadata": {},
          "execution_count": 19
        }
      ]
    },
    {
      "cell_type": "code",
      "metadata": {
        "colab": {
          "base_uri": "https://localhost:8080/"
        },
        "id": "Eoj3N1CZI99u",
        "outputId": "2fab0244-6b48-42a6-a255-3ca1a2ee0850"
      },
      "source": [
        "np.mean(VALIDATION_LOSS)"
      ],
      "execution_count": null,
      "outputs": [
        {
          "output_type": "execute_result",
          "data": {
            "text/plain": [
              "0.25709037855267525"
            ]
          },
          "metadata": {},
          "execution_count": 20
        }
      ]
    },
    {
      "cell_type": "markdown",
      "metadata": {
        "id": "FrLQIYxnRPnG"
      },
      "source": [
        "## Evaluate winning model\n",
        "\n",
        "Once I finished tuning the parameters of my model, I trained the 'production' model on all of the traninng data and evaluated its performance on the test data.\n"
      ]
    },
    {
      "cell_type": "code",
      "metadata": {
        "colab": {
          "base_uri": "https://localhost:8080/"
        },
        "id": "qh-5-pSix67X",
        "outputId": "5d3b481b-ddf9-4c6e-cfd1-af280150206d"
      },
      "source": [
        "# Get a fresh compiled model & train it on the entirety of the dataset\n",
        "model = build_model()\n",
        "\n",
        "model.fit(x_train, y_train, epochs = 350,\n",
        "                       batch_size = 8, callbacks = callbacks_list,\n",
        "                       validation_data = (x_test, y_test), verbose = 0)\n",
        "\n",
        "test_loss, test_acc = model.evaluate(x_test, y_test)"
      ],
      "execution_count": null,
      "outputs": [
        {
          "output_type": "stream",
          "name": "stdout",
          "text": [
            "1/1 [==============================] - 0s 17ms/step - loss: 0.0521 - acc: 1.0000\n"
          ]
        }
      ]
    },
    {
      "cell_type": "code",
      "metadata": {
        "colab": {
          "base_uri": "https://localhost:8080/"
        },
        "id": "7ZTLhOPUnbgY",
        "outputId": "ad78b42c-b129-4510-af05-170e93f89ce8"
      },
      "source": [
        "print('test_acc:', test_acc, 'test_loss:', test_loss, sep = '\\n')"
      ],
      "execution_count": null,
      "outputs": [
        {
          "output_type": "stream",
          "name": "stdout",
          "text": [
            "test_acc:\n",
            "1.0\n",
            "test_loss:\n",
            "0.052141349762678146\n"
          ]
        }
      ]
    },
    {
      "cell_type": "markdown",
      "metadata": {
        "id": "auFfJ1lWnBaB"
      },
      "source": [
        "## Conclusion\n",
        "\n",
        "The final model had a test accuracy of 100% for three consecutive runs and 96.67% on the fourth run. The test loss ranged from 3.3 to 12.02%. Interestingly this is an improvement from the validation set accuracy and loss. The model is not overfit.\n",
        "\n",
        "\n"
      ]
    }
  ]
}